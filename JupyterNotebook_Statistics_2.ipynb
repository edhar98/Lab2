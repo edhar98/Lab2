{
 "cells": [
  {
   "cell_type": "markdown",
   "metadata": {},
   "source": [
    "# Statistics and Fitting in a Jupyter Notebook\n",
    "## Introduction\n",
    "\n",
    "In this Jupyter notebook the basic statistic functions, linear and non-linear fits are demonstrated."
   ]
  },
  {
   "cell_type": "markdown",
   "metadata": {},
   "source": [
    "## Imported Packages\n",
    "\n",
    "In the following code cell some Python libraries for calculation, fitting, data import and results display are imported. The exact purpose of the libraries is indicated in the code cell as a comment after the hashtag #. Note that sometimes only certain modules from the packages are imported."
   ]
  },
  {
   "cell_type": "code",
   "execution_count": 1,
   "metadata": {
    "id": "UatZ3ns4y6um"
   },
   "outputs": [],
   "source": [
    "import numpy as np                                # library for data structures, vectors, matrices and mathematical functions\n",
    "import matplotlib.pyplot as plt                   # library for plotting and visual representation\n",
    "from matplotlib import rcParams                   # module handling generic plot parameters\n",
    "from matplotlib.ticker import (FormatStrFormatter)# module for figure axis formatting\n",
    "import pandas as pd                               # data administration, here used for data import\n",
    "from scipy.optimize import curve_fit              # fitting algorithm from the scipy package\n",
    "from IPython.display import display as dy, Markdown as md, Latex as Lx, Image as Im \n",
    "                                                  # displaying LaTeX code in code cells"
   ]
  },
  {
   "cell_type": "markdown",
   "metadata": {},
   "source": [
    "## Definition of the Plot Parameters"
   ]
  },
  {
   "cell_type": "code",
   "execution_count": 2,
   "metadata": {
    "id": "Gi2wX0V-0T70"
   },
   "outputs": [],
   "source": [
    "# figure size\n",
    "height_cm = 15\n",
    "width_cm = 20\n",
    "height_inch = height_cm/2.54\n",
    "width_inch = width_cm/2.54\n",
    "\n",
    "# text font and size for figures\n",
    "rcParams.update({'font.size': 22})\n",
    "rcParams['font.family'] = 'sans-serif'\n",
    "rcParams['font.sans-serif'] = ['Tahoma'] #other font styles possible\n",
    "plt.rc('xtick', labelsize=20) \n",
    "plt.rc('ytick', labelsize=20)\n",
    "legendfontsize = 12\n",
    "titlesize = 18\n",
    "\n",
    "# axes tick size\n",
    "ticksize = 100"
   ]
  },
  {
   "cell_type": "markdown",
   "metadata": {},
   "source": [
    "## Definition of the Data File Path"
   ]
  },
  {
   "cell_type": "code",
   "execution_count": 3,
   "metadata": {
    "colab": {
     "base_uri": "https://localhost:8080/"
    },
    "id": "aIRNERQUFOUX",
    "outputId": "22ce09b5-159a-4672-e22b-16f6c9fafd82"
   },
   "outputs": [],
   "source": [
    "datapath = './'  # Change for your system."
   ]
  },
  {
   "cell_type": "markdown",
   "metadata": {},
   "source": [
    "## Data Import\n",
    "\n",
    "The experimental data are provided as ASCII files with one column. In the following code cell the data files are imported using pandas dataframes and are assigned to list.\n",
    "File names are:\n",
    "1. Statistics\n",
    "      - numbers_4.dat (series of numbers)\n",
    "      - w_4.dat       (statistical weights)\n",
    "      - linear_1.dat  (series of number pairs)\n",
    "2. non-linear fitting\n",
    "      - RCL_amp.dat   (three columns: frequency (Hz), $U_R$ (mV) and $U$ (mV))"
   ]
  },
  {
   "cell_type": "code",
   "execution_count": 4,
   "metadata": {
    "id": "K6zT15Ij24Fm"
   },
   "outputs": [],
   "source": [
    "### Statistics data\n",
    "\n",
    "## Assign more convenient variables and work with pandas dataframes.\n",
    "stat4 = pd.read_table(datapath+'numbers_4.dat')                               \n",
    "weight4 = pd.read_table(datapath+'w_4.dat')\n",
    "lin1 = pd.read_table(datapath+'linear_1.dat')\n",
    "\n",
    "### non-linear fitting\n",
    "\n",
    "## RLC - assign more convenient variables and work with pandas dataframes\n",
    "RLC_amp = pd.read_table(datapath+'RCL_amp.dat')                             # transfer function RCL series circuit"
   ]
  },
  {
   "cell_type": "markdown",
   "metadata": {},
   "source": [
    "## Calculation of basic parameters from descriptive statistics: Average, standard deviation, variance, standrad deviation of the mean"
   ]
  },
  {
   "cell_type": "code",
   "execution_count": 5,
   "metadata": {
    "id": "psR4G53cSz3h"
   },
   "outputs": [
    {
     "name": "stderr",
     "output_type": "stream",
     "text": [
      "C:\\Users\\edhar\\AppData\\Local\\Temp\\ipykernel_4224\\4018955212.py:14: FutureWarning: Calling float on a single element Series is deprecated and will raise a TypeError in the future. Use float(ser.iloc[0]) instead\n",
      "  dy(Lx(r'$N$ = %i, Average = %0.5f, Standard deviation = %0.5f, Standard deviation of the mean = %0.5f, Variance = %0.5f' % (l4,ave4,std4,stdm4,var4)))\n"
     ]
    },
    {
     "data": {
      "text/latex": [
       "$N$ = 10000, Average = -0.00144, Standard deviation = 1.00913, Standard deviation of the mean = 0.01009, Variance = 1.01834"
      ],
      "text/plain": [
       "<IPython.core.display.Latex object>"
      ]
     },
     "metadata": {},
     "output_type": "display_data"
    },
    {
     "data": {
      "text/latex": [
       "Example for weighted average: $N$ = 10000, Average = -0.00144, Weighted average = 0.00509"
      ],
      "text/plain": [
       "<IPython.core.display.Latex object>"
      ]
     },
     "metadata": {},
     "output_type": "display_data"
    }
   ],
   "source": [
    "# Number of data values\n",
    "l4 = len(stat4)\n",
    "# Average value\n",
    "ave4 = np.average(stat4)\n",
    "# Weighted average\n",
    "wave4 = np.average(stat4,weights=weight4)\n",
    "# Standard deviation\n",
    "std4 = np.std(stat4,ddof = 1)  #ddof = 1 reduces the number of degrees of freedom by 1, i.e. the quadratic some is normalized by (N-ddof)\n",
    "# Variance\n",
    "var4 = np.var(stat4,ddof = 1)\n",
    "# Standard deviation of the mean\n",
    "stdm4 = std4/np.sqrt(l4)\n",
    "# Displaying the values\n",
    "dy(Lx(r'$N$ = %i, Average = %0.5f, Standard deviation = %0.5f, Standard deviation of the mean = %0.5f, Variance = %0.5f' % (l4,ave4,std4,stdm4,var4)))\n",
    "dy(Lx(r'Example for weighted average: $N$ = 10000, Average = %0.5f, Weighted average = %0.5f' % (ave4,wave4)))"
   ]
  },
  {
   "cell_type": "markdown",
   "metadata": {},
   "source": [
    "## Linear Fits"
   ]
  },
  {
   "cell_type": "code",
   "execution_count": 6,
   "metadata": {
    "colab": {
     "base_uri": "https://localhost:8080/"
    },
    "id": "fQbDleb1S-SL",
    "outputId": "f107e9f0-cd4c-42a3-d6a1-f57ad9c9d962",
    "scrolled": true
   },
   "outputs": [
    {
     "name": "stdout",
     "output_type": "stream",
     "text": [
      "Fit returns values for fitting parameters and the covariance matrix, see array below. The diagonal matrix elements are the variances of the fitting parameters.\n",
      "(array([ 0.11082955, -2.98649178]), array([[ 9.10568993e-08, -4.09756050e-06],\n",
      "       [-4.09756050e-06,  2.77875309e-04]]))\n"
     ]
    },
    {
     "data": {
      "text/latex": [
       "$a =$ 0.111, $b =$ -2.986"
      ],
      "text/plain": [
       "<IPython.core.display.Latex object>"
      ]
     },
     "metadata": {},
     "output_type": "display_data"
    },
    {
     "data": {
      "text/latex": [
       "$u(a) =$ 3.0e-04, $u(b) =$ 1.7e-02"
      ],
      "text/plain": [
       "<IPython.core.display.Latex object>"
      ]
     },
     "metadata": {},
     "output_type": "display_data"
    },
    {
     "data": {
      "text/latex": [
       "$cov(a,b) =$ -0.815"
      ],
      "text/plain": [
       "<IPython.core.display.Latex object>"
      ]
     },
     "metadata": {},
     "output_type": "display_data"
    },
    {
     "data": {
      "text/latex": [
       "With correct number of decimals:"
      ],
      "text/plain": [
       "<IPython.core.display.Latex object>"
      ]
     },
     "metadata": {},
     "output_type": "display_data"
    },
    {
     "data": {
      "text/latex": [
       "$a \\pm u(a) = $ 0.1108 $\\pm$ 3e-04"
      ],
      "text/plain": [
       "<IPython.core.display.Latex object>"
      ]
     },
     "metadata": {},
     "output_type": "display_data"
    },
    {
     "data": {
      "text/latex": [
       "$b \\pm u(b) = $ -2.99 $\\pm$ 2e-02"
      ],
      "text/plain": [
       "<IPython.core.display.Latex object>"
      ]
     },
     "metadata": {},
     "output_type": "display_data"
    }
   ],
   "source": [
    "### FIT FUNCTIONS\n",
    "\n",
    "def linear(x, a, b):\n",
    "  return a*x+b\n",
    "\n",
    "x = lin1['x']\n",
    "y = lin1['y']\n",
    "\n",
    "# fit_linear[0][0:1] contains the values of the fit parameters a and b, \n",
    "# fit_linear[1][0:1][0:1] the covariance matrix with the variance of the fit parameters as diagonal elements.\n",
    "fit_linear = curve_fit(linear, x, y)\n",
    "\n",
    "print('Fit returns values for fitting parameters and the covariance matrix, see array below. The diagonal matrix elements are the variances of the fitting parameters.')\n",
    "print(fit_linear)  \n",
    "dy(Lx('$a =$ %.3f, $b =$ %.3f' % (fit_linear[0][0],fit_linear[0][1])))\n",
    "dy(Lx('$u(a) =$ %.1e, $u(b) =$ %.1e' % (np.sqrt(fit_linear[1][0][0]),np.sqrt(fit_linear[1][1][1]))))\n",
    "dy(Lx('$cov(a,b) =$ %.3f' % (fit_linear[1][0][1]/np.sqrt(fit_linear[1][0][0]*fit_linear[1][1][1]))))\n",
    "dy(Lx('With correct number of decimals:'))\n",
    "dy(Lx('$a \\pm u(a) = $ %.4f $\\pm$ %.0e' % (fit_linear[0][0],np.sqrt(fit_linear[1][0][0]))))\n",
    "dy(Lx('$b \\pm u(b) = $ %.2f $\\pm$ %.0e' % (fit_linear[0][1],np.sqrt(fit_linear[1][1][1]))))"
   ]
  },
  {
   "cell_type": "markdown",
   "metadata": {},
   "source": [
    "## Plotting of data and linear fit"
   ]
  },
  {
   "cell_type": "code",
   "execution_count": 7,
   "metadata": {
    "colab": {
     "base_uri": "https://localhost:8080/",
     "height": 825
    },
    "id": "fztqIdOM8n_L",
    "outputId": "c6558d00-115a-4ed5-8897-c90a37cc4cec"
   },
   "outputs": [
    {
     "data": {
      "text/latex": [
       "$Figure\\, 1$: Linear scatter data. Solid line is a linear fit to the data."
      ],
      "text/plain": [
       "<IPython.core.display.Latex object>"
      ]
     },
     "metadata": {},
     "output_type": "display_data"
    },
    {
     "data": {
      "image/png": "[encoded data removed]",
      "text/plain": [
       "<Figure size 787.402x590.551 with 1 Axes>"
      ]
     },
     "metadata": {},
     "output_type": "display_data"
    }
   ],
   "source": [
    "### PLOTS\n",
    "\n",
    "## linear\n",
    "fig1, ax1 = plt.subplots()\n",
    "fig1.set_figheight(height_inch)\n",
    "fig1.set_figwidth(width_inch)\n",
    "\n",
    "ax1.grid('both')\n",
    "ax1.axhline(0, linewidth=0.75, color='black')\n",
    "ax1.set_xlabel('$x$')\n",
    "ax1.set_ylabel('$y$')\n",
    "#ax1.set_ylim(-20,90)\n",
    "#ax1.set_yticks(np.arange(-90,91,30))\n",
    "\n",
    "# figure caption\n",
    "dy(Lx(r'$Figure\\, 1$: Linear scatter data. Solid line is a linear fit to the data.'))\n",
    "\n",
    "#RC phase data and fit\n",
    "ax1.scatter(lin1['x'], lin1['y'],marker = 's', color = 'orange', s = 25, label = 'data')\n",
    "ax1.plot(lin1['x'], linear(lin1['x'], fit_linear[0][0], fit_linear[0][1]), color = 'blue', linewidth = 1.5, label = 'fit')\n",
    "fig1.legend(bbox_to_anchor = (0.14, 0.87), loc = 'upper left', fontsize = legendfontsize)\n",
    "plt.show()"
   ]
  },
  {
   "cell_type": "markdown",
   "metadata": {},
   "source": [
    "## Non-linear Fit\n",
    "\n"
   ]
  },
  {
   "cell_type": "code",
   "execution_count": 8,
   "metadata": {},
   "outputs": [
    {
     "data": {
      "text/latex": [
       "$\\underline{\\rm Fitting\\, results}$"
      ],
      "text/plain": [
       "<IPython.core.display.Latex object>"
      ]
     },
     "metadata": {},
     "output_type": "display_data"
    },
    {
     "data": {
      "text/latex": [
       "from RCL amp: $f_0 =$ (4272 $\\pm$ 10) Hz, $\\delta =$ (22232 $\\pm$ 132) s$^{-1}$,$R_C/R =$ 0.056 $\\pm$ 0.002"
      ],
      "text/plain": [
       "<IPython.core.display.Latex object>"
      ]
     },
     "metadata": {},
     "output_type": "display_data"
    }
   ],
   "source": [
    "### FIT FUNCTIONS\n",
    "\n",
    "def amp_rcl(f, f0, delta, rc):\n",
    "  w0 = 2*np.pi*f0\n",
    "  w = 2*np.pi*f\n",
    "  return 1/(1+rc)*2*delta*w/(4*delta**2*w**2+(w**2-w0**2)**2)**0.5\n",
    "\n",
    "\n",
    "### FITS\n",
    "\n",
    "# fit_amp_rcl[0][0:2] contains the values of the fit parameters f0, delta and rc,\n",
    "# fit_amp_rclRC[1][0:2][0:2] the covariance matrix with the variance of the fit parameters as diagonal elements.\n",
    "fit_amp_rcl = curve_fit(amp_rcl, RLC_amp['f(Hz)'], np.abs(RLC_amp['UR (mV)']/RLC_amp['U (mV)']), p0 = (4000.,30000.,1.))\n",
    "\n",
    "# LaTeX code to display the fitting results\n",
    "dy(Lx(r'$\\underline{\\rm Fitting\\, results}$'))\n",
    "dy(Lx(r'from RCL amp: $f_0 =$ (%0.0f $\\pm$ %0.0f) Hz, $\\delta =$ (%0.0f $\\pm$ %0.0f) s$^{-1}$,$R_C/R =$ %0.3f $\\pm$ %0.3f' % \n",
    "      (fit_amp_rcl[0][0],np.sqrt(fit_amp_rcl[1][0][0]),fit_amp_rcl[0][1],np.sqrt(fit_amp_rcl[1][1][1]), \\\n",
    "       fit_amp_rcl[0][2],np.sqrt(fit_amp_rcl[1][2][2]))))"
   ]
  },
  {
   "cell_type": "markdown",
   "metadata": {},
   "source": [
    "## Plotting of data and non-linear fits"
   ]
  },
  {
   "cell_type": "code",
   "execution_count": 9,
   "metadata": {},
   "outputs": [
    {
     "data": {
      "text/latex": [
       "Transfer function $|U_R|/|U|$ of the RCL-circuit. Solid line is fit to the data."
      ],
      "text/plain": [
       "<IPython.core.display.Latex object>"
      ]
     },
     "metadata": {},
     "output_type": "display_data"
    },
    {
     "data": {
      "image/png": "[encoded data removed]",
      "text/plain": [
       "<Figure size 787.402x590.551 with 1 Axes>"
      ]
     },
     "metadata": {},
     "output_type": "display_data"
    }
   ],
   "source": [
    "### PLOTS\n",
    "\n",
    "## amp plot and fits\n",
    "fig3, ax3 = plt.subplots()\n",
    "fig3.set_figheight(height_inch)\n",
    "fig3.set_figwidth(width_inch)\n",
    "\n",
    "ax3.semilogx()\n",
    "ax3.grid('both')\n",
    "ax3.set_xlabel('Frequency $f$ (Hz)')\n",
    "ax3.set_ylabel(r'|$U_r$|/|$U$|')\n",
    "\n",
    "# figure caption\n",
    "dy(Lx(r'Transfer function $|U_R|/|U|$ of the RCL-circuit. Solid line is fit to the data.'))\n",
    "\n",
    "#RCL amp data\n",
    "ax3.scatter(RLC_amp['f(Hz)'], np.abs(RLC_amp['UR (mV)']/RLC_amp['U (mV)']),\n",
    "            marker = 'v', color = 'red', s = 30, label = 'RCL')\n",
    "\n",
    "#RCL amp fit\n",
    "ax3.plot(RLC_amp['f(Hz)'], amp_rcl(RLC_amp['f(Hz)'], fit_amp_rcl[0][0], fit_amp_rcl[0][1], fit_amp_rcl[0][2]),\n",
    "         color = 'red', linewidth = 1.0, label = 'fit RCL')\n",
    "plt.show()"
   ]
  },
  {
   "cell_type": "code",
   "execution_count": null,
   "metadata": {},
   "outputs": [],
   "source": []
  }
 ],
 "metadata": {
  "colab": {
   "collapsed_sections": [],
   "name": "Paperprojekt.ipynb",
   "provenance": [],
   "toc_visible": true
  },
  "kernelspec": {
   "display_name": "Python 3 (ipykernel)",
   "language": "python",
   "name": "python3"
  },
  "language_info": {
   "codemirror_mode": {
    "name": "ipython",
    "version": 3
   },
   "file_extension": ".py",
   "mimetype": "text/x-python",
   "name": "python",
   "nbconvert_exporter": "python",
   "pygments_lexer": "ipython3",
   "version": "3.11.5"
  }
 },
 "nbformat": 4,
 "nbformat_minor": 4
}
